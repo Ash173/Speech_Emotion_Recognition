{
  "nbformat": 4,
  "nbformat_minor": 0,
  "metadata": {
    "colab": {
      "provenance": []
    },
    "kernelspec": {
      "name": "python3",
      "display_name": "Python 3"
    },
    "language_info": {
      "name": "python"
    },
    "widgets": {
      "application/vnd.jupyter.widget-state+json": {
        "9115726667c647aab542ce28d7a60bc5": {
          "model_module": "@jupyter-widgets/controls",
          "model_name": "FileUploadModel",
          "model_module_version": "1.5.0",
          "state": {
            "_counter": 1,
            "_dom_classes": [],
            "_model_module": "@jupyter-widgets/controls",
            "_model_module_version": "1.5.0",
            "_model_name": "FileUploadModel",
            "_view_count": null,
            "_view_module": "@jupyter-widgets/controls",
            "_view_module_version": "1.5.0",
            "_view_name": "FileUploadView",
            "accept": ".wav",
            "button_style": "",
            "data": [
              null
            ],
            "description": "Upload",
            "description_tooltip": null,
            "disabled": false,
            "error": "",
            "icon": "upload",
            "layout": "IPY_MODEL_74a3c593b7be4baba58ec7e8690bef2e",
            "metadata": [
              {
                "name": "1001_DFA_NEU_XX.wav",
                "type": "audio/wav",
                "size": 65176,
                "lastModified": 1712433431323
              }
            ],
            "multiple": false,
            "style": "IPY_MODEL_a16025f8f560448e80ff82fab8a64d32"
          }
        },
        "74a3c593b7be4baba58ec7e8690bef2e": {
          "model_module": "@jupyter-widgets/base",
          "model_name": "LayoutModel",
          "model_module_version": "1.2.0",
          "state": {
            "_model_module": "@jupyter-widgets/base",
            "_model_module_version": "1.2.0",
            "_model_name": "LayoutModel",
            "_view_count": null,
            "_view_module": "@jupyter-widgets/base",
            "_view_module_version": "1.2.0",
            "_view_name": "LayoutView",
            "align_content": null,
            "align_items": null,
            "align_self": null,
            "border": null,
            "bottom": null,
            "display": null,
            "flex": null,
            "flex_flow": null,
            "grid_area": null,
            "grid_auto_columns": null,
            "grid_auto_flow": null,
            "grid_auto_rows": null,
            "grid_column": null,
            "grid_gap": null,
            "grid_row": null,
            "grid_template_areas": null,
            "grid_template_columns": null,
            "grid_template_rows": null,
            "height": null,
            "justify_content": null,
            "justify_items": null,
            "left": null,
            "margin": null,
            "max_height": null,
            "max_width": null,
            "min_height": null,
            "min_width": null,
            "object_fit": null,
            "object_position": null,
            "order": null,
            "overflow": null,
            "overflow_x": null,
            "overflow_y": null,
            "padding": null,
            "right": null,
            "top": null,
            "visibility": null,
            "width": null
          }
        },
        "a16025f8f560448e80ff82fab8a64d32": {
          "model_module": "@jupyter-widgets/controls",
          "model_name": "ButtonStyleModel",
          "model_module_version": "1.5.0",
          "state": {
            "_model_module": "@jupyter-widgets/controls",
            "_model_module_version": "1.5.0",
            "_model_name": "ButtonStyleModel",
            "_view_count": null,
            "_view_module": "@jupyter-widgets/base",
            "_view_module_version": "1.2.0",
            "_view_name": "StyleView",
            "button_color": null,
            "font_weight": ""
          }
        },
        "910b406f36f24a428e6d12dd34a964b8": {
          "model_module": "@jupyter-widgets/controls",
          "model_name": "HTMLModel",
          "model_module_version": "1.5.0",
          "state": {
            "_dom_classes": [],
            "_model_module": "@jupyter-widgets/controls",
            "_model_module_version": "1.5.0",
            "_model_name": "HTMLModel",
            "_view_count": null,
            "_view_module": "@jupyter-widgets/controls",
            "_view_module_version": "1.5.0",
            "_view_name": "HTMLView",
            "description": "",
            "description_tooltip": null,
            "layout": "IPY_MODEL_c832a352e17f48f491ff4136d0be2253",
            "placeholder": "​",
            "style": "IPY_MODEL_f84a52f16f8743af9725071dfcaca96f",
            "value": "<h3>Classification Result:</h3><p>The predicted emotion is: Sad and stressed</p>"
          }
        },
        "c832a352e17f48f491ff4136d0be2253": {
          "model_module": "@jupyter-widgets/base",
          "model_name": "LayoutModel",
          "model_module_version": "1.2.0",
          "state": {
            "_model_module": "@jupyter-widgets/base",
            "_model_module_version": "1.2.0",
            "_model_name": "LayoutModel",
            "_view_count": null,
            "_view_module": "@jupyter-widgets/base",
            "_view_module_version": "1.2.0",
            "_view_name": "LayoutView",
            "align_content": null,
            "align_items": null,
            "align_self": null,
            "border": null,
            "bottom": null,
            "display": null,
            "flex": null,
            "flex_flow": null,
            "grid_area": null,
            "grid_auto_columns": null,
            "grid_auto_flow": null,
            "grid_auto_rows": null,
            "grid_column": null,
            "grid_gap": null,
            "grid_row": null,
            "grid_template_areas": null,
            "grid_template_columns": null,
            "grid_template_rows": null,
            "height": null,
            "justify_content": null,
            "justify_items": null,
            "left": null,
            "margin": null,
            "max_height": null,
            "max_width": null,
            "min_height": null,
            "min_width": null,
            "object_fit": null,
            "object_position": null,
            "order": null,
            "overflow": null,
            "overflow_x": null,
            "overflow_y": null,
            "padding": null,
            "right": null,
            "top": null,
            "visibility": null,
            "width": null
          }
        },
        "f84a52f16f8743af9725071dfcaca96f": {
          "model_module": "@jupyter-widgets/controls",
          "model_name": "DescriptionStyleModel",
          "model_module_version": "1.5.0",
          "state": {
            "_model_module": "@jupyter-widgets/controls",
            "_model_module_version": "1.5.0",
            "_model_name": "DescriptionStyleModel",
            "_view_count": null,
            "_view_module": "@jupyter-widgets/base",
            "_view_module_version": "1.2.0",
            "_view_name": "StyleView",
            "description_width": ""
          }
        }
      }
    }
  },
  "cells": [
    {
      "cell_type": "code",
      "execution_count": 4,
      "metadata": {
        "colab": {
          "base_uri": "https://localhost:8080/",
          "height": 171,
          "referenced_widgets": [
            "9115726667c647aab542ce28d7a60bc5",
            "74a3c593b7be4baba58ec7e8690bef2e",
            "a16025f8f560448e80ff82fab8a64d32",
            "910b406f36f24a428e6d12dd34a964b8",
            "c832a352e17f48f491ff4136d0be2253",
            "f84a52f16f8743af9725071dfcaca96f"
          ]
        },
        "id": "KV6aa_MCYnoL",
        "outputId": "41a6e83e-47a0-4720-afea-ff8727a66680"
      },
      "outputs": [
        {
          "output_type": "stream",
          "name": "stdout",
          "text": [
            "Drive already mounted at /content/drive; to attempt to forcibly remount, call drive.mount(\"/content/drive\", force_remount=True).\n"
          ]
        },
        {
          "output_type": "display_data",
          "data": {
            "text/plain": [
              "FileUpload(value={}, accept='.wav', description='Upload')"
            ],
            "application/vnd.jupyter.widget-view+json": {
              "version_major": 2,
              "version_minor": 0,
              "model_id": "9115726667c647aab542ce28d7a60bc5"
            }
          },
          "metadata": {}
        },
        {
          "output_type": "stream",
          "name": "stdout",
          "text": [
            "1/1 [==============================] - 0s 106ms/step\n"
          ]
        },
        {
          "output_type": "display_data",
          "data": {
            "text/plain": [
              "HTML(value='<h3>Classification Result:</h3><p>The predicted emotion is: Sad and stressed</p>')"
            ],
            "application/vnd.jupyter.widget-view+json": {
              "version_major": 2,
              "version_minor": 0,
              "model_id": "910b406f36f24a428e6d12dd34a964b8"
            }
          },
          "metadata": {}
        }
      ],
      "source": [
        "# GUI to test the trained Model\n",
        "import os\n",
        "import librosa\n",
        "import numpy as np\n",
        "from skimage.transform import resize\n",
        "import tensorflow as tf\n",
        "from tensorflow.keras.models import load_model\n",
        "from IPython.display import display\n",
        "import ipywidgets as widgets\n",
        "from google.colab import files\n",
        "\n",
        "from google.colab import drive\n",
        "drive.mount('/content/drive')\n",
        "\n",
        "model_path =\"/content/drive/My Drive/Semester 6/Digital Signal Processing/Project DSP/trained_model.h5\"\n",
        "\n",
        "model = tf.keras.models.load_model(model_path)\n",
        "\n",
        "def preprocess_audio(file_path, sr=48000, n_fft=1024, hop_length=256):\n",
        "    y_audio, sr = librosa.load(file_path, sr=sr)\n",
        "    stft = librosa.stft(y_audio, n_fft=1024, win_length=512, window='hamming', hop_length=256)\n",
        "    spectrogram = np.abs(stft)\n",
        "    spectrogram = librosa.power_to_db(spectrogram, ref=np.max)\n",
        "    spectrogram = resize(spectrogram, (128, 128))\n",
        "    spectrogram = spectrogram[..., np.newaxis]\n",
        "    return spectrogram\n",
        "\n",
        "def classify_wav_file(file_path):\n",
        "    preprocessed_input = preprocess_audio(file_path)\n",
        "    prediction = model.predict(preprocessed_input[np.newaxis, ...])\n",
        "    predicted_class = np.argmax(prediction)\n",
        "\n",
        "    if predicted_class == 0:\n",
        "        return \"Surprised and not stressed\"\n",
        "    elif predicted_class == 1:\n",
        "        return \"Neutral and not stressed\"\n",
        "    elif predicted_class == 2:\n",
        "        return \"Calm and not stresses\"\n",
        "    elif predicted_class == 3:\n",
        "        return \"Happy and not stressed\"\n",
        "    elif predicted_class == 4:\n",
        "        return \"Sad and stressed\"\n",
        "    elif predicted_class == 5:\n",
        "        return \"Angry and stressed\"\n",
        "    elif predicted_class == 6:\n",
        "        return \"Fear and stressed\"\n",
        "    elif predicted_class == 7:\n",
        "        return \"Disgust and stressed\"\n",
        "    else:\n",
        "        return \"Unknown\"\n",
        "\n",
        "def on_file_upload(change):\n",
        "    uploaded_file = list(change['new'].values())[0]['content']\n",
        "\n",
        "    with open(\"temp.wav\", \"wb\") as f:\n",
        "        f.write(uploaded_file)\n",
        "\n",
        "    result = classify_wav_file(\"temp.wav\")\n",
        "\n",
        "    display(widgets.HTML(f\"<h3>Classification Result:</h3><p>The predicted emotion is: {result}</p>\"))\n",
        "\n",
        "\n",
        "file_upload = widgets.FileUpload(accept=\".wav\", multiple=False)\n",
        "file_upload.observe(on_file_upload, names='value')\n",
        "display(file_upload)\n"
      ]
    }
  ]
}